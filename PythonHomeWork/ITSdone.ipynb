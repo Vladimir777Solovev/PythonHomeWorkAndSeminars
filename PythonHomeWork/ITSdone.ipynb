{
 "cells": [
  {
   "cell_type": "code",
   "execution_count": null,
   "metadata": {},
   "outputs": [],
   "source": [
    "\n",
    "import pandas as pd \n",
    "import numpy as np \n",
    "import random\n",
    " \n",
    "lst = ['robot'] * 10\n",
    "lst += ['human'] * 10\n",
    "random.shuffle(lst)\n",
    "data = pd.DataFrame({'whoAmI': lst})\n",
    "print(data)\n",
    " \n",
    "#==================================================#\n",
    "data['tmp'] = 1\n",
    "data.set_index([data.index, 'whoAmI'], inplace=True)\n",
    "data = data.unstack(level=-1, fill_value = 0).astype(int)\n",
    "data.columns = data.columns.droplevel()\n",
    "data.columns.name = None\n",
    "print(data)"
   ]
  }
 ],
 "metadata": {
  "language_info": {
   "name": "python"
  },
  "orig_nbformat": 4
 },
 "nbformat": 4,
 "nbformat_minor": 2
}
